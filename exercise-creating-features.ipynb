{
 "cells": [
  {
   "cell_type": "markdown",
   "id": "04f15046",
   "metadata": {
    "papermill": {
     "duration": 0.006039,
     "end_time": "2023-05-08T18:19:43.433506",
     "exception": false,
     "start_time": "2023-05-08T18:19:43.427467",
     "status": "completed"
    },
    "tags": []
   },
   "source": [
    "**This notebook is an exercise in the [Feature Engineering](https://www.kaggle.com/learn/feature-engineering) course.  You can reference the tutorial at [this link](https://www.kaggle.com/ryanholbrook/creating-features).**\n",
    "\n",
    "---\n"
   ]
  },
  {
   "cell_type": "markdown",
   "id": "adb5cabe",
   "metadata": {
    "papermill": {
     "duration": 0.004889,
     "end_time": "2023-05-08T18:19:43.443771",
     "exception": false,
     "start_time": "2023-05-08T18:19:43.438882",
     "status": "completed"
    },
    "tags": []
   },
   "source": [
    "# Introduction #\n",
    "\n",
    "In this exercise you'll start developing the features you identified in Exercise 2 as having the most potential. As you work through this exercise, you might take a moment to look at the data documentation again and consider whether the features we're creating make sense from a real-world perspective, and whether there are any useful combinations that stand out to you.\n",
    "\n",
    "Run this cell to set everything up!"
   ]
  },
  {
   "cell_type": "code",
   "execution_count": 1,
   "id": "8ac8ff7e",
   "metadata": {
    "execution": {
     "iopub.execute_input": "2023-05-08T18:19:43.455817Z",
     "iopub.status.busy": "2023-05-08T18:19:43.455458Z",
     "iopub.status.idle": "2023-05-08T18:19:45.151149Z",
     "shell.execute_reply": "2023-05-08T18:19:45.149779Z"
    },
    "papermill": {
     "duration": 1.70489,
     "end_time": "2023-05-08T18:19:45.153902",
     "exception": false,
     "start_time": "2023-05-08T18:19:43.449012",
     "status": "completed"
    },
    "tags": []
   },
   "outputs": [
    {
     "name": "stderr",
     "output_type": "stream",
     "text": [
      "/opt/conda/lib/python3.10/site-packages/scipy/__init__.py:146: UserWarning: A NumPy version >=1.16.5 and <1.23.0 is required for this version of SciPy (detected version 1.23.5\n",
      "  warnings.warn(f\"A NumPy version >={np_minversion} and <{np_maxversion}\"\n"
     ]
    }
   ],
   "source": [
    "# Setup feedback system\n",
    "from learntools.core import binder\n",
    "binder.bind(globals())\n",
    "from learntools.feature_engineering_new.ex3 import *\n",
    "\n",
    "import numpy as np\n",
    "import pandas as pd\n",
    "from sklearn.model_selection import cross_val_score\n",
    "from xgboost import XGBRegressor\n",
    "\n",
    "\n",
    "def score_dataset(X, y, model=XGBRegressor()):\n",
    "    # Label encoding for categoricals\n",
    "    for colname in X.select_dtypes([\"category\", \"object\"]):\n",
    "        X[colname], _ = X[colname].factorize()\n",
    "    # Metric for Housing competition is RMSLE (Root Mean Squared Log Error)\n",
    "    score = cross_val_score(\n",
    "        model, X, y, cv=5, scoring=\"neg_mean_squared_log_error\",\n",
    "    )\n",
    "    score = -1 * score.mean()\n",
    "    score = np.sqrt(score)\n",
    "    return score\n",
    "\n",
    "\n",
    "# Prepare data\n",
    "df = pd.read_csv(\"../input/fe-course-data/ames.csv\")\n",
    "X = df.copy()\n",
    "y = X.pop(\"SalePrice\")"
   ]
  },
  {
   "cell_type": "markdown",
   "id": "3d6dacf0",
   "metadata": {
    "papermill": {
     "duration": 0.005082,
     "end_time": "2023-05-08T18:19:45.164352",
     "exception": false,
     "start_time": "2023-05-08T18:19:45.159270",
     "status": "completed"
    },
    "tags": []
   },
   "source": [
    "-------------------------------------------------------------------------------\n",
    "\n",
    "Let's start with a few mathematical combinations. We'll focus on features describing areas -- having the same units (square-feet) makes it easy to combine them in sensible ways. Since we're using XGBoost (a tree-based model), we'll focus on ratios and sums.\n",
    "\n",
    "# 1) Create Mathematical Transforms\n",
    "\n",
    "Create the following features:\n",
    "\n",
    "- `LivLotRatio`: the ratio of `GrLivArea` to `LotArea`\n",
    "- `Spaciousness`: the sum of `FirstFlrSF` and `SecondFlrSF` divided by `TotRmsAbvGrd`\n",
    "- `TotalOutsideSF`: the sum of `WoodDeckSF`, `OpenPorchSF`, `EnclosedPorch`, `Threeseasonporch`, and `ScreenPorch`"
   ]
  },
  {
   "cell_type": "code",
   "execution_count": 2,
   "id": "ae648878",
   "metadata": {
    "execution": {
     "iopub.execute_input": "2023-05-08T18:19:45.176535Z",
     "iopub.status.busy": "2023-05-08T18:19:45.176123Z",
     "iopub.status.idle": "2023-05-08T18:19:45.200528Z",
     "shell.execute_reply": "2023-05-08T18:19:45.199544Z"
    },
    "lines_to_next_cell": 0,
    "papermill": {
     "duration": 0.03346,
     "end_time": "2023-05-08T18:19:45.202928",
     "exception": false,
     "start_time": "2023-05-08T18:19:45.169468",
     "status": "completed"
    },
    "tags": []
   },
   "outputs": [
    {
     "data": {
      "application/javascript": [
       "parent.postMessage({\"jupyterEvent\": \"custom.exercise_interaction\", \"data\": {\"outcomeType\": 1, \"valueTowardsCompletion\": 0.2, \"interactionType\": 1, \"questionType\": 2, \"questionId\": \"1_Q1\", \"learnToolsVersion\": \"0.3.4\", \"failureMessage\": \"\", \"exceptionClass\": \"\", \"trace\": \"\"}}, \"*\")"
      ],
      "text/plain": [
       "<IPython.core.display.Javascript object>"
      ]
     },
     "metadata": {},
     "output_type": "display_data"
    },
    {
     "data": {
      "text/markdown": [
       "<span style=\"color:#33cc33\">Correct</span>"
      ],
      "text/plain": [
       "Correct"
      ]
     },
     "metadata": {},
     "output_type": "display_data"
    }
   ],
   "source": [
    "# YOUR CODE HERE\n",
    "X_1 = pd.DataFrame()  # dataframe to hold new features\n",
    "\n",
    "X_1[\"LivLotRatio\"] = df.GrLivArea / df.LotArea\n",
    "X_1[\"Spaciousness\"] = (df.FirstFlrSF + df.SecondFlrSF) / df.TotRmsAbvGrd\n",
    "X_1[\"TotalOutsideSF\"] = (df.WoodDeckSF + df.OpenPorchSF + df.EnclosedPorch + df.Threeseasonporch + df.ScreenPorch)\n",
    "\n",
    "\n",
    "# Check your answer\n",
    "q_1.check()"
   ]
  },
  {
   "cell_type": "code",
   "execution_count": 3,
   "id": "cc6ee8ea",
   "metadata": {
    "execution": {
     "iopub.execute_input": "2023-05-08T18:19:45.216082Z",
     "iopub.status.busy": "2023-05-08T18:19:45.215643Z",
     "iopub.status.idle": "2023-05-08T18:19:45.220346Z",
     "shell.execute_reply": "2023-05-08T18:19:45.219225Z"
    },
    "lines_to_next_cell": 0,
    "papermill": {
     "duration": 0.013865,
     "end_time": "2023-05-08T18:19:45.222463",
     "exception": false,
     "start_time": "2023-05-08T18:19:45.208598",
     "status": "completed"
    },
    "tags": []
   },
   "outputs": [],
   "source": [
    "# Lines below will give you a hint or solution code\n",
    "#q_1.hint()\n",
    "#q_1.solution()"
   ]
  },
  {
   "cell_type": "markdown",
   "id": "f7994d29",
   "metadata": {
    "papermill": {
     "duration": 0.005331,
     "end_time": "2023-05-08T18:19:45.233338",
     "exception": false,
     "start_time": "2023-05-08T18:19:45.228007",
     "status": "completed"
    },
    "tags": []
   },
   "source": [
    "-------------------------------------------------------------------------------\n",
    "\n",
    "If you've discovered an interaction effect between a numeric feature and a categorical feature, you might want to model it explicitly using a one-hot encoding, like so:\n",
    "\n",
    "```\n",
    "# One-hot encode Categorical feature, adding a column prefix \"Cat\"\n",
    "X_new = pd.get_dummies(df.Categorical, prefix=\"Cat\")\n",
    "\n",
    "# Multiply row-by-row\n",
    "X_new = X_new.mul(df.Continuous, axis=0)\n",
    "\n",
    "# Join the new features to the feature set\n",
    "X = X.join(X_new)\n",
    "```\n",
    "\n",
    "# 2) Interaction with a Categorical\n",
    "\n",
    "We discovered an interaction between `BldgType` and `GrLivArea` in Exercise 2. Now create their interaction features."
   ]
  },
  {
   "cell_type": "code",
   "execution_count": 4,
   "id": "0935bebc",
   "metadata": {
    "execution": {
     "iopub.execute_input": "2023-05-08T18:19:45.245466Z",
     "iopub.status.busy": "2023-05-08T18:19:45.245023Z",
     "iopub.status.idle": "2023-05-08T18:19:45.259331Z",
     "shell.execute_reply": "2023-05-08T18:19:45.258387Z"
    },
    "lines_to_next_cell": 0,
    "papermill": {
     "duration": 0.022767,
     "end_time": "2023-05-08T18:19:45.261393",
     "exception": false,
     "start_time": "2023-05-08T18:19:45.238626",
     "status": "completed"
    },
    "tags": []
   },
   "outputs": [
    {
     "data": {
      "application/javascript": [
       "parent.postMessage({\"jupyterEvent\": \"custom.exercise_interaction\", \"data\": {\"outcomeType\": 1, \"valueTowardsCompletion\": 0.2, \"interactionType\": 1, \"questionType\": 2, \"questionId\": \"2_Q2\", \"learnToolsVersion\": \"0.3.4\", \"failureMessage\": \"\", \"exceptionClass\": \"\", \"trace\": \"\"}}, \"*\")"
      ],
      "text/plain": [
       "<IPython.core.display.Javascript object>"
      ]
     },
     "metadata": {},
     "output_type": "display_data"
    },
    {
     "data": {
      "text/markdown": [
       "<span style=\"color:#33cc33\">Correct</span>"
      ],
      "text/plain": [
       "Correct"
      ]
     },
     "metadata": {},
     "output_type": "display_data"
    }
   ],
   "source": [
    "# YOUR CODE HERE\n",
    "# One-hot encode BldgType. Use `prefix=\"Bldg\"` in `get_dummies`\n",
    "X_2 = pd.get_dummies(df.BldgType, prefix=\"Bldg\")\n",
    "X_2 = X_2.mul(df.GrLivArea, axis=0)\n",
    "\n",
    "\n",
    "# Check your answer\n",
    "q_2.check()"
   ]
  },
  {
   "cell_type": "code",
   "execution_count": 5,
   "id": "842e39a5",
   "metadata": {
    "execution": {
     "iopub.execute_input": "2023-05-08T18:19:45.275083Z",
     "iopub.status.busy": "2023-05-08T18:19:45.274185Z",
     "iopub.status.idle": "2023-05-08T18:19:45.277903Z",
     "shell.execute_reply": "2023-05-08T18:19:45.277263Z"
    },
    "lines_to_next_cell": 0,
    "papermill": {
     "duration": 0.012545,
     "end_time": "2023-05-08T18:19:45.279822",
     "exception": false,
     "start_time": "2023-05-08T18:19:45.267277",
     "status": "completed"
    },
    "tags": []
   },
   "outputs": [],
   "source": [
    "# Lines below will give you a hint or solution code\n",
    "#q_2.hint()\n",
    "#q_2.solution()"
   ]
  },
  {
   "cell_type": "markdown",
   "id": "174af4bf",
   "metadata": {
    "lines_to_next_cell": 0,
    "papermill": {
     "duration": 0.005303,
     "end_time": "2023-05-08T18:19:45.290809",
     "exception": false,
     "start_time": "2023-05-08T18:19:45.285506",
     "status": "completed"
    },
    "tags": []
   },
   "source": [
    "# 3) Count Feature\n",
    "\n",
    "Let's try creating a feature that describes how many kinds of outdoor areas a dwelling has. Create a feature `PorchTypes` that counts how many of the following are greater than 0.0:\n",
    "\n",
    "```\n",
    "WoodDeckSF\n",
    "OpenPorchSF\n",
    "EnclosedPorch\n",
    "Threeseasonporch\n",
    "ScreenPorch\n",
    "```"
   ]
  },
  {
   "cell_type": "code",
   "execution_count": 6,
   "id": "b8f31eef",
   "metadata": {
    "execution": {
     "iopub.execute_input": "2023-05-08T18:19:45.303743Z",
     "iopub.status.busy": "2023-05-08T18:19:45.303102Z",
     "iopub.status.idle": "2023-05-08T18:19:45.317547Z",
     "shell.execute_reply": "2023-05-08T18:19:45.316547Z"
    },
    "lines_to_next_cell": 0,
    "papermill": {
     "duration": 0.023247,
     "end_time": "2023-05-08T18:19:45.319597",
     "exception": false,
     "start_time": "2023-05-08T18:19:45.296350",
     "status": "completed"
    },
    "tags": []
   },
   "outputs": [
    {
     "data": {
      "application/javascript": [
       "parent.postMessage({\"jupyterEvent\": \"custom.exercise_interaction\", \"data\": {\"outcomeType\": 1, \"valueTowardsCompletion\": 0.2, \"interactionType\": 1, \"questionType\": 2, \"questionId\": \"3_Q3\", \"learnToolsVersion\": \"0.3.4\", \"failureMessage\": \"\", \"exceptionClass\": \"\", \"trace\": \"\"}}, \"*\")"
      ],
      "text/plain": [
       "<IPython.core.display.Javascript object>"
      ]
     },
     "metadata": {},
     "output_type": "display_data"
    },
    {
     "data": {
      "text/markdown": [
       "<span style=\"color:#33cc33\">Correct</span>"
      ],
      "text/plain": [
       "Correct"
      ]
     },
     "metadata": {},
     "output_type": "display_data"
    }
   ],
   "source": [
    "X_3 = pd.DataFrame()\n",
    "porch_types=['WoodDeckSF','OpenPorchSF','EnclosedPorch','Threeseasonporch','ScreenPorch']\n",
    "# YOUR CODE HERE\n",
    "X_3[\"PorchTypes\"] = df[porch_types].gt(0,0).sum(axis=1)\n",
    "\n",
    "# Check your answer\n",
    "q_3.check()"
   ]
  },
  {
   "cell_type": "code",
   "execution_count": 7,
   "id": "5493de21",
   "metadata": {
    "execution": {
     "iopub.execute_input": "2023-05-08T18:19:45.332987Z",
     "iopub.status.busy": "2023-05-08T18:19:45.332603Z",
     "iopub.status.idle": "2023-05-08T18:19:45.339557Z",
     "shell.execute_reply": "2023-05-08T18:19:45.338851Z"
    },
    "lines_to_next_cell": 0,
    "papermill": {
     "duration": 0.015768,
     "end_time": "2023-05-08T18:19:45.341373",
     "exception": false,
     "start_time": "2023-05-08T18:19:45.325605",
     "status": "completed"
    },
    "tags": []
   },
   "outputs": [
    {
     "data": {
      "application/javascript": [
       "parent.postMessage({\"jupyterEvent\": \"custom.exercise_interaction\", \"data\": {\"interactionType\": 3, \"questionType\": 2, \"questionId\": \"3_Q3\", \"learnToolsVersion\": \"0.3.4\", \"valueTowardsCompletion\": 0.0, \"failureMessage\": \"\", \"exceptionClass\": \"\", \"trace\": \"\", \"outcomeType\": 4}}, \"*\")"
      ],
      "text/plain": [
       "<IPython.core.display.Javascript object>"
      ]
     },
     "metadata": {},
     "output_type": "display_data"
    },
    {
     "data": {
      "text/markdown": [
       "<span style=\"color:#33cc99\">Solution:</span> \n",
       "```python\n",
       "\n",
       "X_3 = pd.DataFrame()\n",
       "\n",
       "X_3[\"PorchTypes\"] = df[[\n",
       "    \"WoodDeckSF\",\n",
       "    \"OpenPorchSF\",\n",
       "    \"EnclosedPorch\",\n",
       "    \"Threeseasonporch\",\n",
       "    \"ScreenPorch\",\n",
       "]].gt(0.0).sum(axis=1)\n",
       "\n",
       "```"
      ],
      "text/plain": [
       "Solution: \n",
       "```python\n",
       "\n",
       "X_3 = pd.DataFrame()\n",
       "\n",
       "X_3[\"PorchTypes\"] = df[[\n",
       "    \"WoodDeckSF\",\n",
       "    \"OpenPorchSF\",\n",
       "    \"EnclosedPorch\",\n",
       "    \"Threeseasonporch\",\n",
       "    \"ScreenPorch\",\n",
       "]].gt(0.0).sum(axis=1)\n",
       "\n",
       "```"
      ]
     },
     "metadata": {},
     "output_type": "display_data"
    }
   ],
   "source": [
    "# Lines below will give you a hint or solution code\n",
    "#q_3.hint()\n",
    "#\n",
    "q_3.solution()"
   ]
  },
  {
   "cell_type": "markdown",
   "id": "595152b7",
   "metadata": {
    "papermill": {
     "duration": 0.005862,
     "end_time": "2023-05-08T18:19:45.353191",
     "exception": false,
     "start_time": "2023-05-08T18:19:45.347329",
     "status": "completed"
    },
    "tags": []
   },
   "source": [
    "# 4) Break Down a Categorical Feature\n",
    "\n",
    "`MSSubClass` describes the type of a dwelling:"
   ]
  },
  {
   "cell_type": "code",
   "execution_count": 8,
   "id": "d221b2e1",
   "metadata": {
    "execution": {
     "iopub.execute_input": "2023-05-08T18:19:45.367252Z",
     "iopub.status.busy": "2023-05-08T18:19:45.366880Z",
     "iopub.status.idle": "2023-05-08T18:19:45.373428Z",
     "shell.execute_reply": "2023-05-08T18:19:45.372470Z"
    },
    "papermill": {
     "duration": 0.016011,
     "end_time": "2023-05-08T18:19:45.375346",
     "exception": false,
     "start_time": "2023-05-08T18:19:45.359335",
     "status": "completed"
    },
    "tags": []
   },
   "outputs": [
    {
     "data": {
      "text/plain": [
       "array(['One_Story_1946_and_Newer_All_Styles', 'Two_Story_1946_and_Newer',\n",
       "       'One_Story_PUD_1946_and_Newer',\n",
       "       'One_and_Half_Story_Finished_All_Ages', 'Split_Foyer',\n",
       "       'Two_Story_PUD_1946_and_Newer', 'Split_or_Multilevel',\n",
       "       'One_Story_1945_and_Older', 'Duplex_All_Styles_and_Ages',\n",
       "       'Two_Family_conversion_All_Styles_and_Ages',\n",
       "       'One_and_Half_Story_Unfinished_All_Ages',\n",
       "       'Two_Story_1945_and_Older', 'Two_and_Half_Story_All_Ages',\n",
       "       'One_Story_with_Finished_Attic_All_Ages',\n",
       "       'PUD_Multilevel_Split_Level_Foyer',\n",
       "       'One_and_Half_Story_PUD_All_Ages'], dtype=object)"
      ]
     },
     "execution_count": 8,
     "metadata": {},
     "output_type": "execute_result"
    }
   ],
   "source": [
    "df.MSSubClass.unique()"
   ]
  },
  {
   "cell_type": "markdown",
   "id": "f9c89e5c",
   "metadata": {
    "papermill": {
     "duration": 0.006008,
     "end_time": "2023-05-08T18:19:45.387604",
     "exception": false,
     "start_time": "2023-05-08T18:19:45.381596",
     "status": "completed"
    },
    "tags": []
   },
   "source": [
    "You can see that there is a more general categorization described (roughly) by the first word of each category. Create a feature containing only these first words by splitting `MSSubClass` at the first underscore `_`. (Hint: In the `split` method use an argument `n=1`.)"
   ]
  },
  {
   "cell_type": "code",
   "execution_count": 9,
   "id": "e9c0ccb8",
   "metadata": {
    "execution": {
     "iopub.execute_input": "2023-05-08T18:19:45.401889Z",
     "iopub.status.busy": "2023-05-08T18:19:45.401246Z",
     "iopub.status.idle": "2023-05-08T18:19:45.424396Z",
     "shell.execute_reply": "2023-05-08T18:19:45.423132Z"
    },
    "lines_to_next_cell": 0,
    "papermill": {
     "duration": 0.032609,
     "end_time": "2023-05-08T18:19:45.426415",
     "exception": false,
     "start_time": "2023-05-08T18:19:45.393806",
     "status": "completed"
    },
    "tags": []
   },
   "outputs": [
    {
     "data": {
      "application/javascript": [
       "parent.postMessage({\"jupyterEvent\": \"custom.exercise_interaction\", \"data\": {\"outcomeType\": 1, \"valueTowardsCompletion\": 0.2, \"interactionType\": 1, \"questionType\": 2, \"questionId\": \"4_Q4\", \"learnToolsVersion\": \"0.3.4\", \"failureMessage\": \"\", \"exceptionClass\": \"\", \"trace\": \"\"}}, \"*\")"
      ],
      "text/plain": [
       "<IPython.core.display.Javascript object>"
      ]
     },
     "metadata": {},
     "output_type": "display_data"
    },
    {
     "data": {
      "text/markdown": [
       "<span style=\"color:#33cc33\">Correct</span>"
      ],
      "text/plain": [
       "Correct"
      ]
     },
     "metadata": {},
     "output_type": "display_data"
    }
   ],
   "source": [
    "X_4 = pd.DataFrame()\n",
    "\n",
    "# YOUR CODE HERE\n",
    "X_4[\"MSClass\"] = df.MSSubClass.str.split(\"_\", n=1, expand=True)[0]\n",
    "\n",
    "# Check your answer\n",
    "q_4.check()"
   ]
  },
  {
   "cell_type": "code",
   "execution_count": 10,
   "id": "33d4e200",
   "metadata": {
    "execution": {
     "iopub.execute_input": "2023-05-08T18:19:45.441490Z",
     "iopub.status.busy": "2023-05-08T18:19:45.440486Z",
     "iopub.status.idle": "2023-05-08T18:19:45.444907Z",
     "shell.execute_reply": "2023-05-08T18:19:45.444019Z"
    },
    "lines_to_next_cell": 0,
    "papermill": {
     "duration": 0.013878,
     "end_time": "2023-05-08T18:19:45.446837",
     "exception": false,
     "start_time": "2023-05-08T18:19:45.432959",
     "status": "completed"
    },
    "tags": []
   },
   "outputs": [],
   "source": [
    "# Lines below will give you a hint or solution code\n",
    "#q_4.hint()\n",
    "#q_4.solution()"
   ]
  },
  {
   "cell_type": "markdown",
   "id": "66a1ad91",
   "metadata": {
    "papermill": {
     "duration": 0.006049,
     "end_time": "2023-05-08T18:19:45.459305",
     "exception": false,
     "start_time": "2023-05-08T18:19:45.453256",
     "status": "completed"
    },
    "tags": []
   },
   "source": [
    "# 5) Use a Grouped Transform\n",
    "\n",
    "The value of a home often depends on how it compares to typical homes in its neighborhood. Create a feature `MedNhbdArea` that describes the *median* of `GrLivArea` grouped on `Neighborhood`."
   ]
  },
  {
   "cell_type": "code",
   "execution_count": 11,
   "id": "deb9c420",
   "metadata": {
    "execution": {
     "iopub.execute_input": "2023-05-08T18:19:45.473761Z",
     "iopub.status.busy": "2023-05-08T18:19:45.473033Z",
     "iopub.status.idle": "2023-05-08T18:19:45.489201Z",
     "shell.execute_reply": "2023-05-08T18:19:45.488376Z"
    },
    "lines_to_next_cell": 0,
    "papermill": {
     "duration": 0.025685,
     "end_time": "2023-05-08T18:19:45.491153",
     "exception": false,
     "start_time": "2023-05-08T18:19:45.465468",
     "status": "completed"
    },
    "tags": []
   },
   "outputs": [
    {
     "data": {
      "application/javascript": [
       "parent.postMessage({\"jupyterEvent\": \"custom.exercise_interaction\", \"data\": {\"outcomeType\": 1, \"valueTowardsCompletion\": 0.2, \"interactionType\": 1, \"questionType\": 2, \"questionId\": \"5_Q5\", \"learnToolsVersion\": \"0.3.4\", \"failureMessage\": \"\", \"exceptionClass\": \"\", \"trace\": \"\"}}, \"*\")"
      ],
      "text/plain": [
       "<IPython.core.display.Javascript object>"
      ]
     },
     "metadata": {},
     "output_type": "display_data"
    },
    {
     "data": {
      "text/markdown": [
       "<span style=\"color:#33cc33\">Correct</span>"
      ],
      "text/plain": [
       "Correct"
      ]
     },
     "metadata": {},
     "output_type": "display_data"
    }
   ],
   "source": [
    "X_5 = pd.DataFrame()\n",
    "\n",
    "# YOUR CODE HERE\n",
    "X_5[\"MedNhbdArea\"] = X_5[\"MedNhbdArea\"] = df.groupby(\"Neighborhood\")[\"GrLivArea\"].transform(\"median\")\n",
    "\n",
    "# Check your answer\n",
    "q_5.check()"
   ]
  },
  {
   "cell_type": "code",
   "execution_count": 12,
   "id": "25071b68",
   "metadata": {
    "execution": {
     "iopub.execute_input": "2023-05-08T18:19:45.506579Z",
     "iopub.status.busy": "2023-05-08T18:19:45.505824Z",
     "iopub.status.idle": "2023-05-08T18:19:45.509561Z",
     "shell.execute_reply": "2023-05-08T18:19:45.508657Z"
    },
    "lines_to_next_cell": 0,
    "papermill": {
     "duration": 0.013422,
     "end_time": "2023-05-08T18:19:45.511535",
     "exception": false,
     "start_time": "2023-05-08T18:19:45.498113",
     "status": "completed"
    },
    "tags": []
   },
   "outputs": [],
   "source": [
    "# Lines below will give you a hint or solution code\n",
    "#q_5.hint()\n",
    "#q_5.solution()"
   ]
  },
  {
   "cell_type": "markdown",
   "id": "f20f1c29",
   "metadata": {
    "papermill": {
     "duration": 0.00661,
     "end_time": "2023-05-08T18:19:45.525284",
     "exception": false,
     "start_time": "2023-05-08T18:19:45.518674",
     "status": "completed"
    },
    "tags": []
   },
   "source": [
    "Now you've made your first new feature set! If you like, you can run the cell below to score the model with all of your new features added:"
   ]
  },
  {
   "cell_type": "code",
   "execution_count": 13,
   "id": "7a0ead1a",
   "metadata": {
    "execution": {
     "iopub.execute_input": "2023-05-08T18:19:45.540816Z",
     "iopub.status.busy": "2023-05-08T18:19:45.540242Z",
     "iopub.status.idle": "2023-05-08T18:19:50.543150Z",
     "shell.execute_reply": "2023-05-08T18:19:50.542216Z"
    },
    "papermill": {
     "duration": 5.013683,
     "end_time": "2023-05-08T18:19:50.545842",
     "exception": false,
     "start_time": "2023-05-08T18:19:45.532159",
     "status": "completed"
    },
    "tags": []
   },
   "outputs": [
    {
     "data": {
      "text/plain": [
       "0.13865658070461215"
      ]
     },
     "execution_count": 13,
     "metadata": {},
     "output_type": "execute_result"
    }
   ],
   "source": [
    "X_new = X.join([X_1, X_2, X_3, X_4, X_5])\n",
    "score_dataset(X_new, y)"
   ]
  },
  {
   "cell_type": "markdown",
   "id": "e8f5411f",
   "metadata": {
    "papermill": {
     "duration": 0.006796,
     "end_time": "2023-05-08T18:19:50.561015",
     "exception": false,
     "start_time": "2023-05-08T18:19:50.554219",
     "status": "completed"
    },
    "tags": []
   },
   "source": [
    "# Keep Going #\n",
    "\n",
    "[**Untangle spatial relationships**](https://www.kaggle.com/ryanholbrook/clustering-with-k-means) by adding cluster labels to your dataset."
   ]
  },
  {
   "cell_type": "markdown",
   "id": "75cab255",
   "metadata": {
    "papermill": {
     "duration": 0.006694,
     "end_time": "2023-05-08T18:19:50.575526",
     "exception": false,
     "start_time": "2023-05-08T18:19:50.568832",
     "status": "completed"
    },
    "tags": []
   },
   "source": [
    "---\n",
    "\n",
    "\n",
    "\n",
    "\n",
    "*Have questions or comments? Visit the [course discussion forum](https://www.kaggle.com/learn/feature-engineering/discussion) to chat with other learners.*"
   ]
  }
 ],
 "metadata": {
  "kernelspec": {
   "display_name": "Python 3",
   "language": "python",
   "name": "python3"
  },
  "language_info": {
   "codemirror_mode": {
    "name": "ipython",
    "version": 3
   },
   "file_extension": ".py",
   "mimetype": "text/x-python",
   "name": "python",
   "nbconvert_exporter": "python",
   "pygments_lexer": "ipython3",
   "version": "3.10.10"
  },
  "papermill": {
   "default_parameters": {},
   "duration": 18.586364,
   "end_time": "2023-05-08T18:19:51.605828",
   "environment_variables": {},
   "exception": null,
   "input_path": "__notebook__.ipynb",
   "output_path": "__notebook__.ipynb",
   "parameters": {},
   "start_time": "2023-05-08T18:19:33.019464",
   "version": "2.4.0"
  }
 },
 "nbformat": 4,
 "nbformat_minor": 5
}
